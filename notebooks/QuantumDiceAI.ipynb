{
 "cells": [
  {
   "cell_type": "code",
   "execution_count": 23,
   "id": "f515cd53-2df3-434f-b386-797b0eee9910",
   "metadata": {},
   "outputs": [
    {
     "name": "stdout",
     "output_type": "stream",
     "text": [
      "1.4.0\n"
     ]
    }
   ],
   "source": [
    "from qiskit import __version__\n",
    "print(__version__)"
   ]
  },
  {
   "cell_type": "code",
   "execution_count": 4,
   "id": "92caded3-7ac7-4d04-8ebf-bf1ab57af2ea",
   "metadata": {},
   "outputs": [
    {
     "ename": "ImportError",
     "evalue": "cannot import name 'execute' from 'qiskit' (C:\\Users\\jacqu\\source\\repos\\IBQQuantum-HelloWorld\\.venv\\lib\\site-packages\\qiskit\\__init__.py)",
     "output_type": "error",
     "traceback": [
      "\u001b[1;31m---------------------------------------------------------------------------\u001b[0m",
      "\u001b[1;31mImportError\u001b[0m                               Traceback (most recent call last)",
      "Cell \u001b[1;32mIn[4], line 2\u001b[0m\n\u001b[0;32m      1\u001b[0m \u001b[38;5;66;03m# Importer les bibliothèques nécessaires\u001b[39;00m\n\u001b[1;32m----> 2\u001b[0m \u001b[38;5;28;01mfrom\u001b[39;00m\u001b[38;5;250m \u001b[39m\u001b[38;5;21;01mqiskit\u001b[39;00m\u001b[38;5;250m \u001b[39m\u001b[38;5;28;01mimport\u001b[39;00m QuantumCircuit, execute\n\u001b[0;32m      3\u001b[0m \u001b[38;5;28;01mfrom\u001b[39;00m\u001b[38;5;250m \u001b[39m\u001b[38;5;21;01mqiskit_aer\u001b[39;00m\u001b[38;5;250m \u001b[39m\u001b[38;5;28;01mimport\u001b[39;00m Aer  \u001b[38;5;66;03m# Importation de Aer depuis qiskit_aer\u001b[39;00m\n\u001b[0;32m      4\u001b[0m \u001b[38;5;28;01mimport\u001b[39;00m\u001b[38;5;250m \u001b[39m\u001b[38;5;21;01mnumpy\u001b[39;00m\u001b[38;5;250m \u001b[39m\u001b[38;5;28;01mas\u001b[39;00m\u001b[38;5;250m \u001b[39m\u001b[38;5;21;01mnp\u001b[39;00m\n",
      "\u001b[1;31mImportError\u001b[0m: cannot import name 'execute' from 'qiskit' (C:\\Users\\jacqu\\source\\repos\\IBQQuantum-HelloWorld\\.venv\\lib\\site-packages\\qiskit\\__init__.py)"
     ]
    }
   ],
   "source": [
    "# Importer les bibliothèques nécessaires\n",
    "from qiskit import QuantumCircuit, execute\n",
    "from qiskit_aer import Aer  # Importation de Aer depuis qiskit_aer\n",
    "import numpy as np\n",
    "\n",
    "# Créer un circuit quantique avec 3 qubits\n",
    "circuit = QuantumCircuit(3, 3)\n",
    "\n",
    "# Appliquer des portes Hadamard sur les 3 qubits pour créer une superposition\n",
    "circuit.h([0, 1, 2])\n",
    "\n",
    "# Mesurer les qubits\n",
    "circuit.measure([0, 1, 2], [0, 1, 2])\n",
    "\n",
    "# Afficher le circuit\n",
    "print(circuit.draw())\n",
    "\n",
    "# Simuler le circuit\n",
    "simulator = Aer.get_backend('qasm_simulator')\n",
    "job = execute(circuit, backend=simulator, shots=1024)\n",
    "result = job.result()\n",
    "\n",
    "# Récupérer les résultats\n",
    "counts = result.get_counts(circuit)\n",
    "print(\"Résultats de la simulation:\", counts)\n",
    "\n",
    "# Convertir les résultats en dé\n",
    "def convert_to_die_roll(counts):\n",
    "    # Créer un dictionnaire pour mapper les résultats binaires à des valeurs de dé\n",
    "    die_mapping = {\n",
    "        '000': 1,\n",
    "        '001': 2,\n",
    "        '010': 3,\n",
    "        '011': 4,\n",
    "        '100': 5,\n",
    "        '101': 6,\n",
    "        # '110' et '111' peuvent être ignorés\n",
    "    }\n",
    "    \n",
    "    die_rolls = {}\n",
    "    for key, count in counts.items():\n",
    "        if key in die_mapping:\n",
    "            die_rolls[die_mapping[key]] = count\n",
    "            \n",
    "    return die_rolls\n",
    "\n",
    "# Afficher les résultats du dé\n",
    "die_rolls = convert_to_die_roll(counts)\n",
    "print(\"Résultat du dé (1 à 6):\", die_rolls)"
   ]
  },
  {
   "cell_type": "code",
   "execution_count": null,
   "id": "60d8159a-8597-4efc-a1fc-a50c5731e7c7",
   "metadata": {},
   "outputs": [],
   "source": []
  }
 ],
 "metadata": {
  "kernelspec": {
   "display_name": "Python 3 (ipykernel)",
   "language": "python",
   "name": "python3"
  },
  "language_info": {
   "codemirror_mode": {
    "name": "ipython",
    "version": 3
   },
   "file_extension": ".py",
   "mimetype": "text/x-python",
   "name": "python",
   "nbconvert_exporter": "python",
   "pygments_lexer": "ipython3",
   "version": "3.10.4"
  }
 },
 "nbformat": 4,
 "nbformat_minor": 5
}

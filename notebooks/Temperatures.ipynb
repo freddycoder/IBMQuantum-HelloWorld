{
 "cells": [
  {
   "cell_type": "code",
   "execution_count": null,
   "id": "6a899eec-0b5d-4d48-a405-696589f496ee",
   "metadata": {},
   "outputs": [
    {
     "ename": "ImportError",
     "evalue": "cannot import name 'LogicalExpressionOracle' from 'qiskit.circuit.library' (c:\\Users\\jacqu\\source\\repos\\IBQQuantum-HelloWorld\\.venv\\lib\\site-packages\\qiskit\\circuit\\library\\__init__.py)",
     "output_type": "error",
     "traceback": [
      "\u001b[1;31m---------------------------------------------------------------------------\u001b[0m",
      "\u001b[1;31mImportError\u001b[0m                               Traceback (most recent call last)",
      "Cell \u001b[1;32mIn[1], line 3\u001b[0m\n\u001b[0;32m      1\u001b[0m \u001b[38;5;28;01mfrom\u001b[39;00m\u001b[38;5;250m \u001b[39m\u001b[38;5;21;01mqiskit\u001b[39;00m\u001b[38;5;250m \u001b[39m\u001b[38;5;28;01mimport\u001b[39;00m QuantumCircuit, transpile, assemble\n\u001b[0;32m      2\u001b[0m \u001b[38;5;28;01mfrom\u001b[39;00m\u001b[38;5;250m \u001b[39m\u001b[38;5;21;01mqiskit\u001b[39;00m\u001b[38;5;21;01m.\u001b[39;00m\u001b[38;5;21;01mvisualization\u001b[39;00m\u001b[38;5;250m \u001b[39m\u001b[38;5;28;01mimport\u001b[39;00m plot_histogram\n\u001b[1;32m----> 3\u001b[0m \u001b[38;5;28;01mfrom\u001b[39;00m\u001b[38;5;250m \u001b[39m\u001b[38;5;21;01mqiskit\u001b[39;00m\u001b[38;5;21;01m.\u001b[39;00m\u001b[38;5;21;01mcircuit\u001b[39;00m\u001b[38;5;21;01m.\u001b[39;00m\u001b[38;5;21;01mlibrary\u001b[39;00m\u001b[38;5;250m \u001b[39m\u001b[38;5;28;01mimport\u001b[39;00m LogicalExpressionOracle\n\u001b[0;32m      5\u001b[0m \u001b[38;5;66;03m# Données de températures d'érablières\u001b[39;00m\n\u001b[0;32m      6\u001b[0m temperatures_data \u001b[38;5;241m=\u001b[39m [\u001b[38;5;241m25\u001b[39m, \u001b[38;5;241m26\u001b[39m, \u001b[38;5;241m24\u001b[39m]\n",
      "\u001b[1;31mImportError\u001b[0m: cannot import name 'LogicalExpressionOracle' from 'qiskit.circuit.library' (c:\\Users\\jacqu\\source\\repos\\IBQQuantum-HelloWorld\\.venv\\lib\\site-packages\\qiskit\\circuit\\library\\__init__.py)"
     ]
    }
   ],
   "source": [
    "from qiskit import QuantumCircuit, transpile, assemble\n",
    "from qiskit.visualization import plot_histogram\n",
    "\n",
    "# Données de températures d'érablières\n",
    "temperatures_data = [25, 26, 24]\n",
    "\n",
    "# Créer un circuit quantique avec le nombre de qubits nécessaires pour représenter les données\n",
    "num_qubits = 3\n",
    "qc = QuantumCircuit(num_qubits)\n",
    "\n",
    "# Initialiser les qubits avec les données de températures d'érablières\n",
    "for idx, temp in enumerate(temperatures_data):\n",
    "    if temp > 25:\n",
    "        qc.x(idx)\n",
    "\n",
    "# Implémenter l'algorithme de Grover avec l'oracle basé sur les données\n",
    "oracle = LogicalExpressionOracle(\"({} & {} & {})\".format(*[f'x{i}' for i in range(num_qubits)]))\n",
    "grover = Grover(oracle)\n",
    "grover_circuit = grover.construct_circuit()\n",
    "\n",
    "# Combinez le circuit de Grover avec le circuit de données\n",
    "full_circuit = qc + grover_circuit\n",
    "\n",
    "# Créer le circuit quantique\n",
    "service = QiskitRuntimeService()\n",
    "backend = service.least_busy(operational=True, simulator=False)\n",
    "transpiled_circuit = transpile(full_circuit, backend)\n",
    "qobj = assemble(transpiled_circuit)\n",
    "result = simulator.run(qobj).result()\n",
    "counts = result.get_counts()\n",
    "\n",
    "# Afficher les résultats\n",
    "plot_histogram(counts)"
   ]
  },
  {
   "cell_type": "code",
   "execution_count": null,
   "id": "8ec0e118-a38c-4448-a1a0-7ee0ebbd5c2e",
   "metadata": {},
   "outputs": [],
   "source": []
  }
 ],
 "metadata": {
  "kernelspec": {
   "display_name": ".venv",
   "language": "python",
   "name": "python3"
  },
  "language_info": {
   "codemirror_mode": {
    "name": "ipython",
    "version": 3
   },
   "file_extension": ".py",
   "mimetype": "text/x-python",
   "name": "python",
   "nbconvert_exporter": "python",
   "pygments_lexer": "ipython3",
   "version": "3.10.4"
  }
 },
 "nbformat": 4,
 "nbformat_minor": 5
}
